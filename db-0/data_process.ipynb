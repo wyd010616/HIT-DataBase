{
 "cells": [
  {
   "cell_type": "code",
   "execution_count": 2,
   "id": "ba87450d",
   "metadata": {},
   "outputs": [],
   "source": [
    "import pandas as pd\n",
    "import numpy as np"
   ]
  },
  {
   "cell_type": "code",
   "execution_count": 43,
   "id": "1253015c",
   "metadata": {},
   "outputs": [],
   "source": [
    "dt = pd.read_csv('EMPLOYEE.csv')\n",
    "dt.to_csv('./emm.csv',index=0)"
   ]
  },
  {
   "cell_type": "code",
   "execution_count": 26,
   "id": "0f51a3dc",
   "metadata": {},
   "outputs": [
    {
     "data": {
      "text/html": [
       "<div>\n",
       "<style scoped>\n",
       "    .dataframe tbody tr th:only-of-type {\n",
       "        vertical-align: middle;\n",
       "    }\n",
       "\n",
       "    .dataframe tbody tr th {\n",
       "        vertical-align: top;\n",
       "    }\n",
       "\n",
       "    .dataframe thead th {\n",
       "        text-align: right;\n",
       "    }\n",
       "</style>\n",
       "<table border=\"1\" class=\"dataframe\">\n",
       "  <thead>\n",
       "    <tr style=\"text-align: right;\">\n",
       "      <th></th>\n",
       "      <th>ENAME</th>\n",
       "      <th>ESSN</th>\n",
       "      <th>ADDRESS</th>\n",
       "      <th>SALARY</th>\n",
       "      <th>SUPERSSN</th>\n",
       "      <th>DNO</th>\n",
       "    </tr>\n",
       "  </thead>\n",
       "  <tbody>\n",
       "    <tr>\n",
       "      <th>0</th>\n",
       "      <td>王奶油</td>\n",
       "      <td>NaN</td>\n",
       "      <td>NaN</td>\n",
       "      <td>NaN</td>\n",
       "      <td>NaN</td>\n",
       "      <td>NaN</td>\n",
       "    </tr>\n",
       "    <tr>\n",
       "      <th>1</th>\n",
       "      <td>王小宝</td>\n",
       "      <td>NaN</td>\n",
       "      <td>NaN</td>\n",
       "      <td>NaN</td>\n",
       "      <td>NaN</td>\n",
       "      <td>NaN</td>\n",
       "    </tr>\n",
       "    <tr>\n",
       "      <th>2</th>\n",
       "      <td>王小胖</td>\n",
       "      <td>NaN</td>\n",
       "      <td>NaN</td>\n",
       "      <td>NaN</td>\n",
       "      <td>NaN</td>\n",
       "      <td>NaN</td>\n",
       "    </tr>\n",
       "    <tr>\n",
       "      <th>3</th>\n",
       "      <td>王小臭</td>\n",
       "      <td>NaN</td>\n",
       "      <td>NaN</td>\n",
       "      <td>NaN</td>\n",
       "      <td>NaN</td>\n",
       "      <td>NaN</td>\n",
       "    </tr>\n",
       "    <tr>\n",
       "      <th>4</th>\n",
       "      <td>王宝</td>\n",
       "      <td>NaN</td>\n",
       "      <td>NaN</td>\n",
       "      <td>NaN</td>\n",
       "      <td>NaN</td>\n",
       "      <td>NaN</td>\n",
       "    </tr>\n",
       "  </tbody>\n",
       "</table>\n",
       "</div>"
      ],
      "text/plain": [
       "  ENAME  ESSN  ADDRESS  SALARY  SUPERSSN  DNO\n",
       "0   王奶油   NaN      NaN     NaN       NaN  NaN\n",
       "1   王小宝   NaN      NaN     NaN       NaN  NaN\n",
       "2   王小胖   NaN      NaN     NaN       NaN  NaN\n",
       "3   王小臭   NaN      NaN     NaN       NaN  NaN\n",
       "4    王宝   NaN      NaN     NaN       NaN  NaN"
      ]
     },
     "execution_count": 26,
     "metadata": {},
     "output_type": "execute_result"
    }
   ],
   "source": [
    "dt = pd.read_excel('EMPLOYEE.xlsx')\n",
    "dt.head()"
   ]
  },
  {
   "cell_type": "code",
   "execution_count": 62,
   "id": "94b8b1ad",
   "metadata": {},
   "outputs": [],
   "source": [
    "essn1 = 230206200106161111\n",
    "essn = []\n",
    "for i in range(50):\n",
    "    essn.append(str(essn1))\n",
    "    essn1 +=1"
   ]
  },
  {
   "cell_type": "code",
   "execution_count": 33,
   "id": "8a94b02e",
   "metadata": {},
   "outputs": [],
   "source": [
    "salary1 = 1000.0\n",
    "salary = []\n",
    "for i in range(50):\n",
    "    salary.append(salary1)\n",
    "    salary1 += 100.0"
   ]
  },
  {
   "cell_type": "code",
   "execution_count": 17,
   "id": "ae9d662a",
   "metadata": {},
   "outputs": [],
   "source": [
    "add = ['南岗区','香坊区','松北区','道外区','道里区']\n",
    "adds = []\n",
    "for i in range(10):\n",
    "    adds.extend(add)"
   ]
  },
  {
   "cell_type": "code",
   "execution_count": 68,
   "id": "dc50ddbc",
   "metadata": {},
   "outputs": [],
   "source": [
    "spssn = ['230206200106161154','230206200106161111','230206200106161112','230206200106161113','230206200106161114']\n",
    "spssns = []\n",
    "for i in range(10):\n",
    "    spssns.extend(spssn)"
   ]
  },
  {
   "cell_type": "code",
   "execution_count": 72,
   "id": "2b079d86",
   "metadata": {},
   "outputs": [],
   "source": [
    "dno = ['D1','D2','D3','D4','D5']\n",
    "dnos = []\n",
    "for i in range(10):\n",
    "    dnos.extend(dno)"
   ]
  },
  {
   "cell_type": "code",
   "execution_count": 77,
   "id": "9a2ed2d9",
   "metadata": {},
   "outputs": [],
   "source": [
    "pno = pd.read_csv('./pro.csv')['PNO']\n",
    "pnos = []\n",
    "for i in range(10):\n",
    "    pnos.extend(pno)"
   ]
  },
  {
   "cell_type": "code",
   "execution_count": 79,
   "id": "47d366ed",
   "metadata": {},
   "outputs": [],
   "source": [
    "hour = [8,9,10,11,12]\n",
    "hours = []\n",
    "for i in range(10):\n",
    "    hours.extend(hour)"
   ]
  },
  {
   "cell_type": "code",
   "execution_count": 82,
   "id": "38a678fd",
   "metadata": {},
   "outputs": [],
   "source": [
    "works = pd.DataFrame({'ESSN':essn,'PNO':pnos[:50],'HOURS':hours})\n",
    "works.to_excel('./works.xlsx',index = 0)"
   ]
  },
  {
   "cell_type": "code",
   "execution_count": 66,
   "id": "84ee8d56",
   "metadata": {},
   "outputs": [],
   "source": [
    "pro = pd.DataFrame({'PNAME':[],'PNO':[],'PLOCATION':[],'DNO':[]})\n",
    "pro.to_excel('./project.xlsx', index = 0)"
   ]
  },
  {
   "cell_type": "code",
   "execution_count": 73,
   "id": "af7d7f6b",
   "metadata": {},
   "outputs": [],
   "source": [
    "df = pd.DataFrame({'ENAME':list(dt['ENAME']),'ESSN':essn,'SALARY':salary,'ADDRESS':adds,'SUPERSSN':spssns,'DNO':dnos})\n",
    "df.to_excel('./EMPLOYEE.xlsx',index=0)"
   ]
  },
  {
   "cell_type": "code",
   "execution_count": 75,
   "id": "d997f400",
   "metadata": {},
   "outputs": [],
   "source": [
    "dpt = pd.DataFrame({'DNAME':['Research Department','战略部','策划部','市场部','摸鱼部'], 'DNO':dno, 'MGRSSN':spssn, 'MGRSTARTDATE':['2001-06-16','2001-06-16','2001-06-16','2001-06-16','2001-06-16']})\n",
    "dpt.to_excel('./department.xlsx', index = 0)"
   ]
  }
 ],
 "metadata": {
  "kernelspec": {
   "display_name": "Python 3",
   "language": "python",
   "name": "python3"
  },
  "language_info": {
   "codemirror_mode": {
    "name": "ipython",
    "version": 3
   },
   "file_extension": ".py",
   "mimetype": "text/x-python",
   "name": "python",
   "nbconvert_exporter": "python",
   "pygments_lexer": "ipython3",
   "version": "3.8.8"
  }
 },
 "nbformat": 4,
 "nbformat_minor": 5
}
