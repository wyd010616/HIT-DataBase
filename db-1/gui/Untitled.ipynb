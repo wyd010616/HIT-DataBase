{
 "cells": [
  {
   "cell_type": "code",
   "execution_count": 1,
   "id": "c5b272c9",
   "metadata": {},
   "outputs": [],
   "source": [
    "import sys\n",
    "from PyQt5 import QtCore, QtGui, QtWidgets\n",
    "from PyQt5.QtGui import QColor,QIcon\n",
    "from PyQt5.QtWidgets import QApplication, QWidget, QGridLayout, QToolButton, QStyle"
   ]
  },
  {
   "cell_type": "code",
   "execution_count": 2,
   "id": "332c41d5",
   "metadata": {},
   "outputs": [],
   "source": [
    "class DemoIcon(QWidget):\n",
    "    def __init__(self, parent=None):\n",
    "        super(DemoIcon, self).__init__(parent)   \n",
    "        \n",
    "         # 设置窗口标题\n",
    "        self.setWindowTitle('实战PyQt5: 内置图标演示')      \n",
    "              \n",
    "        self.initUi()\n",
    "        \n",
    "    def initUi(self):\n",
    "        layout = QGridLayout()\n",
    "        \n",
    "        line_count = 16 #每一行的显示个数\n",
    "        index = 0\n",
    "        \n",
    "        #根据Qt的枚举变量来显示图标\n",
    "        for key in dir(QStyle):\n",
    "            value = getattr(QStyle, key)\n",
    "            if isinstance(value, QStyle.StandardPixmap):\n",
    "                if key != 'SP_CustomBase' and value < 71:               \n",
    "                    print (key, value)\n",
    "                    btn = QToolButton()\n",
    "                    btn.setFixedSize(32,32)\n",
    "                    btn.setIcon(QApplication.style().standardIcon(value))\n",
    "                    btn.setToolTip('{0}: {1}'.format(key, value))\n",
    "                    layout.addWidget(btn, index//line_count, index % line_count)\n",
    "                    index += 1\n",
    "                    \n",
    "        self.setLayout(layout)   "
   ]
  },
  {
   "cell_type": "code",
   "execution_count": 3,
   "id": "323efe94",
   "metadata": {},
   "outputs": [
    {
     "name": "stdout",
     "output_type": "stream",
     "text": [
      "SP_ArrowBack 54\n",
      "SP_ArrowDown 51\n",
      "SP_ArrowForward 55\n",
      "SP_ArrowLeft 52\n",
      "SP_ArrowRight 53\n",
      "SP_ArrowUp 50\n",
      "SP_BrowserReload 59\n",
      "SP_BrowserStop 60\n",
      "SP_CommandLink 57\n",
      "SP_ComputerIcon 15\n",
      "SP_DesktopIcon 13\n",
      "SP_DialogApplyButton 45\n",
      "SP_DialogCancelButton 40\n",
      "SP_DialogCloseButton 44\n",
      "SP_DialogDiscardButton 47\n",
      "SP_DialogHelpButton 41\n",
      "SP_DialogNoButton 49\n",
      "SP_DialogOkButton 39\n",
      "SP_DialogOpenButton 42\n",
      "SP_DialogResetButton 46\n",
      "SP_DialogSaveButton 43\n",
      "SP_DialogYesButton 48\n",
      "SP_DirClosedIcon 22\n",
      "SP_DirHomeIcon 56\n",
      "SP_DirIcon 38\n",
      "SP_DirLinkIcon 23\n",
      "SP_DirLinkOpenIcon 24\n",
      "SP_DirOpenIcon 21\n",
      "SP_DockWidgetCloseButton 8\n",
      "SP_DriveCDIcon 18\n",
      "SP_DriveDVDIcon 19\n",
      "SP_DriveFDIcon 16\n",
      "SP_DriveHDIcon 17\n",
      "SP_DriveNetIcon 20\n",
      "SP_FileDialogBack 37\n",
      "SP_FileDialogContentsView 35\n",
      "SP_FileDialogDetailedView 33\n",
      "SP_FileDialogEnd 30\n",
      "SP_FileDialogInfoView 34\n",
      "SP_FileDialogListView 36\n",
      "SP_FileDialogNewFolder 32\n",
      "SP_FileDialogStart 29\n",
      "SP_FileDialogToParent 31\n",
      "SP_FileIcon 25\n",
      "SP_FileLinkIcon 26\n",
      "SP_LineEditClearButton 70\n",
      "SP_MediaPause 63\n",
      "SP_MediaPlay 61\n",
      "SP_MediaSeekBackward 67\n",
      "SP_MediaSeekForward 66\n",
      "SP_MediaSkipBackward 65\n",
      "SP_MediaSkipForward 64\n",
      "SP_MediaStop 62\n",
      "SP_MediaVolume 68\n",
      "SP_MediaVolumeMuted 69\n",
      "SP_MessageBoxCritical 11\n",
      "SP_MessageBoxInformation 9\n",
      "SP_MessageBoxQuestion 12\n",
      "SP_MessageBoxWarning 10\n",
      "SP_TitleBarCloseButton 3\n",
      "SP_TitleBarContextHelpButton 7\n",
      "SP_TitleBarMaxButton 2\n",
      "SP_TitleBarMenuButton 0\n",
      "SP_TitleBarMinButton 1\n",
      "SP_TitleBarNormalButton 4\n",
      "SP_TitleBarShadeButton 5\n",
      "SP_TitleBarUnshadeButton 6\n",
      "SP_ToolBarHorizontalExtensionButton 27\n",
      "SP_ToolBarVerticalExtensionButton 28\n",
      "SP_TrashIcon 14\n",
      "SP_VistaShield 58\n"
     ]
    },
    {
     "ename": "SystemExit",
     "evalue": "0",
     "output_type": "error",
     "traceback": [
      "An exception has occurred, use %tb to see the full traceback.\n",
      "\u001b[1;31mSystemExit\u001b[0m\u001b[1;31m:\u001b[0m 0\n"
     ]
    },
    {
     "name": "stderr",
     "output_type": "stream",
     "text": [
      "G:\\Anaconda3\\lib\\site-packages\\IPython\\core\\interactiveshell.py:3445: UserWarning: To exit: use 'exit', 'quit', or Ctrl-D.\n",
      "  warn(\"To exit: use 'exit', 'quit', or Ctrl-D.\", stacklevel=1)\n"
     ]
    }
   ],
   "source": [
    "app = QApplication(sys.argv)\n",
    "window = DemoIcon()\n",
    "window.show()\n",
    "sys.exit(app.exec())"
   ]
  },
  {
   "cell_type": "code",
   "execution_count": 1,
   "id": "4d39b645",
   "metadata": {},
   "outputs": [],
   "source": [
    "import pymysql"
   ]
  },
  {
   "cell_type": "code",
   "execution_count": 2,
   "id": "d96e5ca3",
   "metadata": {},
   "outputs": [],
   "source": [
    "# 连接数据库\n",
    "con = pymysql.connect(host='localhost', port=3306, user='root', password='993952', charset='utf8', database='company')\n",
    "cur = con.cursor()  # 执行sql语句的游标"
   ]
  },
  {
   "cell_type": "code",
   "execution_count": null,
   "id": "e35a1f96",
   "metadata": {},
   "outputs": [],
   "source": []
  }
 ],
 "metadata": {
  "kernelspec": {
   "display_name": "Python 3",
   "language": "python",
   "name": "python3"
  },
  "language_info": {
   "codemirror_mode": {
    "name": "ipython",
    "version": 3
   },
   "file_extension": ".py",
   "mimetype": "text/x-python",
   "name": "python",
   "nbconvert_exporter": "python",
   "pygments_lexer": "ipython3",
   "version": "3.8.8"
  }
 },
 "nbformat": 4,
 "nbformat_minor": 5
}
