{
 "cells": [
  {
   "cell_type": "code",
   "execution_count": 1,
   "id": "f78155f5",
   "metadata": {},
   "outputs": [],
   "source": [
    "import os\n",
    "from random import randint"
   ]
  },
  {
   "cell_type": "code",
   "execution_count": 2,
   "id": "59c2113d",
   "metadata": {},
   "outputs": [],
   "source": [
    "disk_dir = './disk/relation/'  # 模拟磁盘所在的目录\n",
    "tuple_num, blk_num1, blk_num2 = 7, 16, 32  # 每个磁盘块可以保存的元组数目，关系R的磁盘块数，关系S的磁盘块数"
   ]
  },
  {
   "cell_type": "code",
   "execution_count": 3,
   "id": "bda58128",
   "metadata": {},
   "outputs": [],
   "source": [
    "class Buffer:\n",
    "    def __init__(self, blk_num: int = 8):\n",
    "        self.io_num = 0  # 磁盘IO次数\n",
    "        self.blk_num = blk_num  # 缓冲区中可以保存的块数目\n",
    "        self.free_blk_num = self.blk_num  # 缓冲区中可用的块数目\n",
    "        self.data_occupy = [False] * self.blk_num  # False表示未被占用\n",
    "        self.data = [[]] * self.blk_num  # 缓存中按块放置的数据，数据为str类型\n",
    "\n",
    "    def get_free_blk(self) -> int:\n",
    "        for idx, flag in enumerate(self.data_occupy):\n",
    "            if not flag:\n",
    "                self.data_occupy[idx] = True\n",
    "                self.free_blk_num -= 1\n",
    "                return idx\n",
    "        return -1\n",
    "\n",
    "    \n",
    "    def free_blk(self, index) -> bool:  # 释放缓冲区的一个磁盘块\n",
    "        flag = self.data_occupy[index]\n",
    "        if flag:\n",
    "            self.free_blk_num += 1\n",
    "            self.data_occupy[index] = False\n",
    "        return flag\n",
    "\n",
    "    def load_blk(self, addr: str) -> int:  # 加载磁盘块到缓冲区中，输入参数形如'./disk/relation/r16.blk'\n",
    "        index = self.get_free_blk()\n",
    "        if index != -1:\n",
    "            with open(addr) as f:\n",
    "                self.data_occupy[index] = True\n",
    "                self.data[index] = f.read().split('\\n')\n",
    "                self.io_num += 1\n",
    "        return index\n",
    "\n",
    "    def write_blk(self, addr, index):  # 将缓冲区中数据写入磁盘块\n",
    "        with open(addr, 'w') as f:\n",
    "            self.io_num += 1\n",
    "            self.free_blk_num += 1\n",
    "            self.data_occupy[index] = False\n",
    "            f.write('\\n'.join(self.data[index]))\n",
    "            return True\n",
    "\n",
    "    def write_buffer(self, data_lst: list, addr):  # 将CPU处理后的数据暂存入缓冲区，再存入磁盘\n",
    "        index = self.get_free_blk()\n",
    "        if index != -1:\n",
    "            self.data[index] = data_lst\n",
    "            self.write_blk(addr, index)\n",
    "        return index != -1"
   ]
  },
  {
   "cell_type": "code",
   "execution_count": null,
   "id": "81a821f5",
   "metadata": {},
   "outputs": [],
   "source": [
    "def drop_blk(addr: str) -> bool:  # 存在返回真，不存在返回假\n",
    "    blk_path = disk_dir + addr + '.blk'\n",
    "    blk_exists = os.path.exists(blk_path)\n",
    "    if blk_exists:\n",
    "        os.remove(blk_path)\n",
    "    return blk_exists\n",
    "\n",
    "\n",
    "def drop_blk_in_dir(file_dir: str):\n",
    "    for file in os.listdir(file_dir):\n",
    "        os.remove(file_dir + file)\n",
    "\n",
    "\n",
    "def gene_data():  # 随机生成关系R和S，使得R中包含16 * 7 = 112个元组，S中包含32 * 7 = 224个元组\n",
    "    drop_blk_in_dir(disk_dir)\n",
    "    all_data, item = [([], set(), blk_num1 * tuple_num, 1, 40), ([], set(), blk_num2 * tuple_num, 20, 60)], None\n",
    "    for data in all_data:\n",
    "        for idx in range(data[2]):  # data[2]保存的是关系元组数目\n",
    "            while True:\n",
    "                item = (randint(data[3], data[4]), randint(1, 1000))  # data[3]和data[4]保存属性A和C的值域上下界\n",
    "                if item not in data[1]:  # data[1]是一个集合，用于生成唯一的元组\n",
    "                    break\n",
    "            data[0].append(item)  # data[0]用于保存最终结果\n",
    "            data[1].add(item)\n",
    "    return all_data[0][0], all_data[1][0]\n",
    "\n",
    "\n",
    "def write_disk(r_lst: list, s_lst: list):  # 将关系实例写入模拟磁盘\n",
    "    all_data = [('r', blk_num1, r_lst), ('s', blk_num2, s_lst)]\n",
    "    for data in all_data:  \n",
    "        for idx in range(data[1]):\n",
    "            with open('%s%s%d.blk' % (disk_dir, data[0], idx), 'w') as f:\n",
    "                blk_data = ['%d %d' % item for item in data[2][idx * tuple_num:(idx + 1) * tuple_num]]\n",
    "                f.write('\\n'.join(blk_data))"
   ]
  },
  {
   "cell_type": "code",
   "execution_count": 5,
   "id": "319038aa",
   "metadata": {},
   "outputs": [],
   "source": [
    "r, s = gene_data()  # 生成关系R和S的随机数据\n",
    "write_disk(r, s)  # 将数据写入模拟磁盘"
   ]
  }
 ],
 "metadata": {
  "kernelspec": {
   "display_name": "Python 3",
   "language": "python",
   "name": "python3"
  },
  "language_info": {
   "codemirror_mode": {
    "name": "ipython",
    "version": 3
   },
   "file_extension": ".py",
   "mimetype": "text/x-python",
   "name": "python",
   "nbconvert_exporter": "python",
   "pygments_lexer": "ipython3",
   "version": "3.8.8"
  }
 },
 "nbformat": 4,
 "nbformat_minor": 5
}
