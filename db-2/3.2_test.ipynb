{
 "cells": [
  {
   "cell_type": "code",
   "execution_count": 1,
   "id": "de67c04b",
   "metadata": {},
   "outputs": [],
   "source": [
    "from PyQt5.QtWidgets import QApplication, QMainWindow, QTableWidgetItem, QHeaderView, QTreeWidgetItem, QStyleFactory\n",
    "from gui import Ui_MainWindow\n",
    "import sys"
   ]
  },
  {
   "cell_type": "code",
   "execution_count": 2,
   "id": "a214f286",
   "metadata": {},
   "outputs": [],
   "source": [
    "query0 = 'SELECT [ ENAME = ’Mary’ & DNAME = ’Research’ ] ( EMPLOYEE JOIN DEPARTMENT )'\n",
    "query1 = 'SELECT [ ESSN = ’01’ ] ( PROJECTION [ ESSN, PNAME ] ( WORKS_ON JOIN PROJECT ) )'\n",
    "query2 = 'PROJECTION [ BDATE ] ( SELECT [ ENAME = ’John’ & DNAME = ’ Research’ ] ( EMPLOYEE JOIN DEPARTMENT ) )'\n",
    "queries = [query0, query1, query2]"
   ]
  },
  {
   "cell_type": "code",
   "execution_count": 3,
   "id": "f15e5b11",
   "metadata": {},
   "outputs": [],
   "source": [
    "class TreeNode:\n",
    "    def __init__(self, op='', info=''):\n",
    "        self.child = []  # 儿子节点\n",
    "        self.op = op\n",
    "        self.info = info\n",
    "\n",
    "    def __str__(self):\n",
    "        return (self.op if self.op else '') + (' ' + self.info if self.info else '')"
   ]
  },
  {
   "cell_type": "code",
   "execution_count": 4,
   "id": "e776becf",
   "metadata": {},
   "outputs": [],
   "source": [
    "class MainWindow(QMainWindow):\n",
    "    def __init__(self, ui_main_win: Ui_MainWindow):\n",
    "        super().__init__()\n",
    "        self.ui = ui_main_win\n",
    "        ui_main_win.setupUi(self)\n",
    "        self.set_query()\n",
    "\n",
    "    def set_query(self):\n",
    "        self.ui.query_table.setRowCount(len(queries))\n",
    "        self.ui.query_table.horizontalHeader().setSectionResizeMode(0, QHeaderView.ResizeToContents)\n",
    "        self.ui.query_table.horizontalHeader().setSectionResizeMode(1, QHeaderView.Stretch)\n",
    "        for idx, query in enumerate(queries):\n",
    "            self.ui.query_table.setItem(idx, 0, QTableWidgetItem('query%d' % idx))\n",
    "            self.ui.query_table.setItem(idx, 1, QTableWidgetItem(query))\n",
    "        self.ui.query_box.addItems(['query%d' % idx for idx in range(len(queries))])\n",
    "\n",
    "    def query(self):\n",
    "        root = get_tree(queries[self.ui.query_box.currentIndex()])\n",
    "        if self.ui.optimize_on.isChecked():\n",
    "            root = optimize(root)\n",
    "        # output_tree(root)\n",
    "        tree_stack, item_stack = [root], [QTreeWidgetItem(self.ui.parse_tree)]\n",
    "        while tree_stack:\n",
    "            tree_node, item_node = tree_stack.pop(0), item_stack.pop(0)\n",
    "            item_node.setText(0, str(tree_node))\n",
    "            tree_stack = tree_node.child + tree_stack\n",
    "            item_stack = [QTreeWidgetItem(item_node) for child in tree_node.child] + item_stack\n",
    "        self.ui.parse_tree.expandAll()\n",
    "        self.ui.parse_tree.setStyle(QStyleFactory.create('windows'))\n",
    "        self.ui.parse_tree.header().setSectionResizeMode(QHeaderView.ResizeToContents)"
   ]
  },
  {
   "cell_type": "code",
   "execution_count": 5,
   "id": "3d567955",
   "metadata": {},
   "outputs": [],
   "source": [
    "'''\n",
    "构建查询树：遇到(说明开始查询子句，遇到[说明开始属性及对应值\n",
    "优化：将select选择操作和投影操作尽可能地移向查询树的叶节点\n",
    "'''\n",
    "def get_tree(query: str):\n",
    "    tokens, idx, node = query.split(), 0, TreeNode()\n",
    "    while idx < len(tokens):\n",
    "        token = tokens[idx]\n",
    "        if token == 'SELECT' or token == 'PROJECTION':\n",
    "            end = tokens.index(']', idx)\n",
    "            node.op, node.info = token, ' '.join(tokens[idx + 2:end])\n",
    "            idx = end + 1\n",
    "        elif token == 'JOIN':\n",
    "            node.op = token\n",
    "            node.child.append(TreeNode(info=tokens[idx - 1]))  # 连接操作的第一个关系\n",
    "            node.child.append(TreeNode(info=tokens[idx + 1]))  # 连接操作的第二个关系\n",
    "            idx += 1\n",
    "        elif token == '(':  # 括号内为查询子句，字句所在的子树应该更靠近叶节点\n",
    "            count, idy = 1, idx + 1\n",
    "            while idy < len(tokens) and count > 0:\n",
    "                if tokens[idy] == '(':\n",
    "                    count += 1\n",
    "                elif tokens[idy] == ')':\n",
    "                    count -= 1\n",
    "                idy += 1\n",
    "            node.child.append(get_tree(' '.join(tokens[idx + 1:idy - 1])))\n",
    "            idx = idy\n",
    "        else:\n",
    "            idx += 1\n",
    "    return node\n",
    "\n",
    "\n",
    "def output_tree(node: TreeNode, sep=''):\n",
    "    print(sep + str(node))\n",
    "    if len(node.child) >= 1:\n",
    "        output_tree(node.child[0], sep + '\\t')\n",
    "    if len(node.child) >= 2:\n",
    "        output_tree(node.child[1], sep + '\\t')\n",
    "\n",
    "\n",
    "def optimize(node: TreeNode, info_lst=None) -> TreeNode:\n",
    "    if node.op == 'SELECT':\n",
    "        node = optimize(node.child[0], node.info.split('&'))\n",
    "    elif node.op == 'PROJECTION':\n",
    "        node.child[0] = optimize(node.child[0], info_lst)\n",
    "    elif node.op == 'JOIN':\n",
    "        node0 = TreeNode(op='SELECT', info=info_lst[0])\n",
    "        node0.child.append(node.child[0])\n",
    "        node.child[0] = node0\n",
    "        if len(info_lst) > 1:\n",
    "            node1 = TreeNode(op='SELECT', info=info_lst[1])\n",
    "            node1.child.append(node.child[1])\n",
    "            node.child[1] = node1\n",
    "    return node"
   ]
  },
  {
   "cell_type": "code",
   "execution_count": 6,
   "id": "f23d0eb8",
   "metadata": {},
   "outputs": [
    {
     "ename": "SystemExit",
     "evalue": "0",
     "output_type": "error",
     "traceback": [
      "An exception has occurred, use %tb to see the full traceback.\n",
      "\u001b[1;31mSystemExit\u001b[0m\u001b[1;31m:\u001b[0m 0\n"
     ]
    },
    {
     "name": "stderr",
     "output_type": "stream",
     "text": [
      "G:\\Anaconda3\\lib\\site-packages\\IPython\\core\\interactiveshell.py:3445: UserWarning: To exit: use 'exit', 'quit', or Ctrl-D.\n",
      "  warn(\"To exit: use 'exit', 'quit', or Ctrl-D.\", stacklevel=1)\n"
     ]
    }
   ],
   "source": [
    "if __name__ == '__main__':\n",
    "    app = QApplication(sys.argv)\n",
    "    main_win = MainWindow(Ui_MainWindow())\n",
    "    main_win.show()\n",
    "    sys.exit(app.exec_())"
   ]
  }
 ],
 "metadata": {
  "kernelspec": {
   "display_name": "Python 3",
   "language": "python",
   "name": "python3"
  },
  "language_info": {
   "codemirror_mode": {
    "name": "ipython",
    "version": 3
   },
   "file_extension": ".py",
   "mimetype": "text/x-python",
   "name": "python",
   "nbconvert_exporter": "python",
   "pygments_lexer": "ipython3",
   "version": "3.8.8"
  }
 },
 "nbformat": 4,
 "nbformat_minor": 5
}
